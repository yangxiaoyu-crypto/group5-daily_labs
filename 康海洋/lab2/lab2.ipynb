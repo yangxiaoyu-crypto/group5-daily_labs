{
 "cells": [
  {
   "cell_type": "code",
   "execution_count": 3,
   "id": "c0d31fd4-106e-4d79-8b5d-18ece5135893",
   "metadata": {},
   "outputs": [],
   "source": [
    "import pandas as pd\n",
    "df = pd.read_csv('Pokemon.csv', encoding='latin1')"
   ]
  },
  {
   "cell_type": "code",
   "execution_count": 5,
   "id": "ff78d0cd-a707-4abb-a17e-91eb3e058958",
   "metadata": {},
   "outputs": [],
   "source": [
    "df = df.iloc[:-2]"
   ]
  },
  {
   "cell_type": "code",
   "execution_count": 6,
   "id": "4d34e065-229a-4fca-bf08-e1d45725b9f7",
   "metadata": {},
   "outputs": [],
   "source": [
    "valid_types = [\n",
    "    'Normal', 'Fire', 'Water', 'Grass', 'Flying', 'Fighting', 'Poison',\n",
    "    'Electric', 'Ground', 'Rock', 'Psychic', 'Ice', 'Bug', 'Ghost',\n",
    "    'Steel', 'Dragon', 'Dark', 'Fairy'\n",
    "]\n",
    "\n",
    "df.loc[~df['Type 2'].isin(valid_types), 'Type 2'] = None"
   ]
  },
  {
   "cell_type": "code",
   "execution_count": 7,
   "id": "2468f32a-a8fe-4f01-89eb-b229528e4e90",
   "metadata": {},
   "outputs": [],
   "source": [
    "mask = df['Generation'].isin([True, False]) & df['Legendary'].astype(str).str.isnumeric()"
   ]
  },
  {
   "cell_type": "code",
   "execution_count": 9,
   "id": "4bb3d483-e2f1-41a5-875c-dceb2f54c7e0",
   "metadata": {},
   "outputs": [],
   "source": [
    "# 将错误的两列交换回来\n",
    "df.loc[mask, ['Generation', 'Legendary']] = \\\n",
    "df.loc[mask, ['Legendary', 'Generation']].values"
   ]
  },
  {
   "cell_type": "code",
   "execution_count": 11,
   "id": "2025b6c1-9126-4bf6-a979-240d6b2cf3aa",
   "metadata": {},
   "outputs": [],
   "source": [
    "# 将 Attack 转为数值（字符串会变为 NaN）\n",
    "df['Attack'] = pd.to_numeric(df['Attack'], errors='coerce')\n",
    "\n",
    "# 处理 Attack 异常高值（>200）\n",
    "df.loc[df['Attack'] > 200, 'Attack'] = None"
   ]
  },
  {
   "cell_type": "code",
   "execution_count": 12,
   "id": "0f4e1505-1c17-454a-b602-89e381c0db97",
   "metadata": {},
   "outputs": [],
   "source": [
    "# 7️⃣ 删除重复值\n",
    "# ============================\n",
    "df = df.drop_duplicates(subset=['Name', 'Type 1', 'Type 2'], keep='first')"
   ]
  },
  {
   "cell_type": "code",
   "execution_count": 13,
   "id": "5a2aa215-f616-4008-9bc5-178f146399c7",
   "metadata": {},
   "outputs": [
    {
     "name": "stdout",
     "output_type": "stream",
     "text": [
      "清洗完成！已保存为 Pokemon_cleaned.csv\n"
     ]
    }
   ],
   "source": [
    "# 8️⃣ 保存清洗后数据\n",
    "# ============================\n",
    "df.to_csv('Pokemon_cleaned.csv', index=False)\n",
    "print(\"清洗完成！已保存为 Pokemon_cleaned.csv\")"
   ]
  },
  {
   "cell_type": "code",
   "execution_count": null,
   "id": "4d15e6e1-2864-40f0-89ab-4b3efe8d05df",
   "metadata": {},
   "outputs": [],
   "source": []
  }
 ],
 "metadata": {
  "kernelspec": {
   "display_name": "Python 3 (ipykernel)",
   "language": "python",
   "name": "python3"
  },
  "language_info": {
   "codemirror_mode": {
    "name": "ipython",
    "version": 3
   },
   "file_extension": ".py",
   "mimetype": "text/x-python",
   "name": "python",
   "nbconvert_exporter": "python",
   "pygments_lexer": "ipython3",
   "version": "3.13.7"
  }
 },
 "nbformat": 4,
 "nbformat_minor": 5
}
